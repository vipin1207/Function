{
 "cells": [
  {
   "cell_type": "code",
   "execution_count": 5,
   "id": "a93881cc",
   "metadata": {},
   "outputs": [
    {
     "name": "stdout",
     "output_type": "stream",
     "text": [
      "Enter the string: Hello World\n",
      "Number of Uppercase letters is: 2\n",
      "Number of Lowercase letter is: 8\n"
     ]
    }
   ],
   "source": [
    "# Find the number of uppercases and lowercases letters in string\n",
    "def String(a):\n",
    "    d = {'uppercase':0, 'lowercase' :0}\n",
    "    for i in a :\n",
    "        if i.isupper():\n",
    "            d['uppercase']  += 1\n",
    "        elif i.islower():\n",
    "            d['lowercase']  += 1\n",
    "        else: pass\n",
    "    print('Enter the string:',a)\n",
    "    print('Number of Uppercase letters is:',d['uppercase'])\n",
    "    print('Number of Lowercase letter is:',d['lowercase'])\n",
    "String(\"Hello World\")"
   ]
  },
  {
   "cell_type": "code",
   "execution_count": null,
   "id": "228f618c",
   "metadata": {},
   "outputs": [],
   "source": []
  }
 ],
 "metadata": {
  "kernelspec": {
   "display_name": "Python 3 (ipykernel)",
   "language": "python",
   "name": "python3"
  },
  "language_info": {
   "codemirror_mode": {
    "name": "ipython",
    "version": 3
   },
   "file_extension": ".py",
   "mimetype": "text/x-python",
   "name": "python",
   "nbconvert_exporter": "python",
   "pygments_lexer": "ipython3",
   "version": "3.9.7"
  }
 },
 "nbformat": 4,
 "nbformat_minor": 5
}
