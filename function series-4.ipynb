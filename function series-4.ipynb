{
 "cells": [
  {
   "cell_type": "code",
   "execution_count": 3,
   "id": "f12029df",
   "metadata": {},
   "outputs": [
    {
     "name": "stdout",
     "output_type": "stream",
     "text": [
      "Enter a number5\n",
      "This is a prime number\n"
     ]
    }
   ],
   "source": [
    "# write a program to check number is prime or not\n",
    "def prime(a):\n",
    "    for i in range(2,a):\n",
    "        if a % i == 0 :\n",
    "            return \"Not a prime number\"\n",
    "        return \"This is a prime number\"\n",
    "a = int(input(\"Enter a number\"))\n",
    "print(prime(a))"
   ]
  },
  {
   "cell_type": "code",
   "execution_count": null,
   "id": "5ec1073e",
   "metadata": {},
   "outputs": [],
   "source": []
  }
 ],
 "metadata": {
  "kernelspec": {
   "display_name": "Python 3 (ipykernel)",
   "language": "python",
   "name": "python3"
  },
  "language_info": {
   "codemirror_mode": {
    "name": "ipython",
    "version": 3
   },
   "file_extension": ".py",
   "mimetype": "text/x-python",
   "name": "python",
   "nbconvert_exporter": "python",
   "pygments_lexer": "ipython3",
   "version": "3.9.7"
  }
 },
 "nbformat": 4,
 "nbformat_minor": 5
}
