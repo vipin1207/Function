{
 "cells": [
  {
   "cell_type": "code",
   "execution_count": 1,
   "id": "d02f29b0",
   "metadata": {},
   "outputs": [
    {
     "name": "stdout",
     "output_type": "stream",
     "text": [
      "55\n"
     ]
    }
   ],
   "source": [
    "#1. write a program to create\n",
    "def sum(n):\n",
    "    if n==1 or n==0:\n",
    "        return(n)\n",
    "    else: return(n+sum(n-1))\n",
    "print(sum(10))\n",
    "    "
   ]
  },
  {
   "cell_type": "code",
   "execution_count": 2,
   "id": "24d0fd5a",
   "metadata": {},
   "outputs": [
    {
     "data": {
      "text/plain": [
       "231"
      ]
     },
     "execution_count": 2,
     "metadata": {},
     "output_type": "execute_result"
    }
   ],
   "source": [
    "sum(21)"
   ]
  },
  {
   "cell_type": "code",
   "execution_count": 3,
   "id": "f6fbe9ca",
   "metadata": {},
   "outputs": [
    {
     "data": {
      "text/plain": [
       "5050"
      ]
     },
     "execution_count": 3,
     "metadata": {},
     "output_type": "execute_result"
    }
   ],
   "source": [
    "sum(100)"
   ]
  },
  {
   "cell_type": "code",
   "execution_count": 4,
   "id": "fcdc6ecc",
   "metadata": {},
   "outputs": [
    {
     "data": {
      "text/plain": [
       "210"
      ]
     },
     "execution_count": 4,
     "metadata": {},
     "output_type": "execute_result"
    }
   ],
   "source": [
    "sum(20)\n"
   ]
  },
  {
   "cell_type": "code",
   "execution_count": 6,
   "id": "d421e70c",
   "metadata": {},
   "outputs": [
    {
     "name": "stdout",
     "output_type": "stream",
     "text": [
      "[1, 2, 3, 4, 5, 6, 7, 8]\n"
     ]
    }
   ],
   "source": [
    "#2.write a python function that takes a list and returns a new list with unique elements of the first list\n",
    "def ulist(l):\n",
    "    a = []\n",
    "    for x in l :\n",
    "        if x not in a :\n",
    "            a.append(x)\n",
    "    return a \n",
    "print(ulist([1,2,2,2,3,3,4,4,2,5,5,6,7,8]))\n",
    "    \n",
    "    "
   ]
  },
  {
   "cell_type": "code",
   "execution_count": 7,
   "id": "985cf44e",
   "metadata": {},
   "outputs": [
    {
     "name": "stdout",
     "output_type": "stream",
     "text": [
      "7 is maximum number\n"
     ]
    }
   ],
   "source": [
    "##3. Find maximum and minimum number from two number using function\n",
    "def num(a,b):\n",
    "    if a>b :\n",
    "        print(a,\"is maximum number\")\n",
    "    else: print(a,\"is minimum number\")\n",
    "num(7,6)"
   ]
  },
  {
   "cell_type": "code",
   "execution_count": null,
   "id": "eeca6e00",
   "metadata": {},
   "outputs": [],
   "source": []
  }
 ],
 "metadata": {
  "kernelspec": {
   "display_name": "Python 3 (ipykernel)",
   "language": "python",
   "name": "python3"
  },
  "language_info": {
   "codemirror_mode": {
    "name": "ipython",
    "version": 3
   },
   "file_extension": ".py",
   "mimetype": "text/x-python",
   "name": "python",
   "nbconvert_exporter": "python",
   "pygments_lexer": "ipython3",
   "version": "3.9.7"
  }
 },
 "nbformat": 4,
 "nbformat_minor": 5
}
